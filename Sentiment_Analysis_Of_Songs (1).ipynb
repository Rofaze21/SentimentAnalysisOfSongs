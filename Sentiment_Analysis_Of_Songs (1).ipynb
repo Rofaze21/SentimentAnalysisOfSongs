{
  "nbformat": 4,
  "nbformat_minor": 0,
  "metadata": {
    "colab": {
      "name": "Sentiment Analysis Of Songs.ipynb",
      "provenance": [],
      "collapsed_sections": []
    },
    "kernelspec": {
      "name": "python3",
      "display_name": "Python 3"
    }
  },
  "cells": [
    {
      "cell_type": "markdown",
      "metadata": {
        "id": "c0Jc6WKZLWKV",
        "colab_type": "text"
      },
      "source": [
        "# Sentiment Analysis Of Songs across decades"
      ]
    },
    {
      "cell_type": "markdown",
      "metadata": {
        "id": "EEhi6rmGl7o4",
        "colab_type": "text"
      },
      "source": [
        "I analyzed different decades starting from 1950’s to see what decades had the most “positive” sounding lyrics. I created a list of top 10 songs from each decade in a CSV file and fed it into an API to grab each song’s lyrics and turned that into a dataframe. After this, I ran Google Cloud’s sentiment analysis algorithm from the Natural Language API provided by Google which gave us a sentiment score along with the magnitude which represented the content amount. With this newly added information in the dataframe, I was able to do some analysis and see what decades had the most positive sounding songs. \n",
        "\n"
      ]
    },
    {
      "cell_type": "code",
      "metadata": {
        "id": "K-pcWv4D9i3L",
        "colab_type": "code",
        "colab": {
          "base_uri": "https://localhost:8080/",
          "height": 34
        },
        "outputId": "70762131-6f17-4a2e-e9bb-0cf8c4525cf1"
      },
      "source": [
        "from google.colab import drive\n",
        "drive.mount('/content/gdrive', force_remount=True)"
      ],
      "execution_count": 1,
      "outputs": [
        {
          "output_type": "stream",
          "text": [
            "Mounted at /content/gdrive\n"
          ],
          "name": "stdout"
        }
      ]
    },
    {
      "cell_type": "code",
      "metadata": {
        "id": "pMXZUHO5_0dt",
        "colab_type": "code",
        "colab": {
          "base_uri": "https://localhost:8080/",
          "height": 34
        },
        "outputId": "20c4da57-8091-4927-d431-e87666b80af7"
      },
      "source": [
        "%pylab inline\n",
        "import pandas as pd\n",
        "import sys\n",
        "import subprocess"
      ],
      "execution_count": 2,
      "outputs": [
        {
          "output_type": "stream",
          "text": [
            "Populating the interactive namespace from numpy and matplotlib\n"
          ],
          "name": "stdout"
        }
      ]
    },
    {
      "cell_type": "markdown",
      "metadata": {
        "id": "lLOa_gEV-dux",
        "colab_type": "text"
      },
      "source": [
        "## Download packages and setup\n"
      ]
    },
    {
      "cell_type": "code",
      "metadata": {
        "id": "qO00SMdotLQ1",
        "colab_type": "code",
        "colab": {}
      },
      "source": [
        "\n",
        "!pip install --upgrade google-cloud-natural-language\n",
        "!pip install -t lib/ --upgrade google-api-python-client\n",
        "!pip install -t lib/ --upgrade google-cloud\n",
        "!pip freeze | grep google-cloud-language"
      ],
      "execution_count": null,
      "outputs": []
    },
    {
      "cell_type": "code",
      "metadata": {
        "id": "vi6EzuLJvcau",
        "colab_type": "code",
        "colab": {}
      },
      "source": [
        "!pip install requests"
      ],
      "execution_count": null,
      "outputs": []
    },
    {
      "cell_type": "code",
      "metadata": {
        "id": "ITcCqaSi880X",
        "colab_type": "code",
        "colab": {
          "base_uri": "https://localhost:8080/",
          "height": 35
        },
        "outputId": "fe3bbdbc-6902-4bae-9224-d1fdb16fa439"
      },
      "source": [
        "## import the os package\n",
        "import os\n",
        "## assign the OS environment variable\n",
        "os.environ['GOOGLE_APPLICATION_CREDENTIALS'] ='/content/gdrive/My Drive/GCP Service Key/QAC Project-736f77fc4a4f.json'\n",
        "\n",
        "## read the value to confirm the change\n",
        "os.environ['GOOGLE_APPLICATION_CREDENTIALS']"
      ],
      "execution_count": 4,
      "outputs": [
        {
          "output_type": "execute_result",
          "data": {
            "application/vnd.google.colaboratory.intrinsic": {
              "type": "string"
            },
            "text/plain": [
              "'/content/gdrive/My Drive/GCP Service Key/QAC Project-736f77fc4a4f.json'"
            ]
          },
          "metadata": {
            "tags": []
          },
          "execution_count": 4
        }
      ]
    },
    {
      "cell_type": "markdown",
      "metadata": {
        "id": "Hk25SW4qsKM7",
        "colab_type": "text"
      },
      "source": [
        "## Import CSV File"
      ]
    },
    {
      "cell_type": "code",
      "metadata": {
        "id": "9Sy_AZNN6CyA",
        "colab_type": "code",
        "colab": {}
      },
      "source": [
        "songsFromDecades = pd.read_csv(\"/content/gdrive/My Drive/Qac239Final/export_dataframeWithSentiment.csv\")"
      ],
      "execution_count": 5,
      "outputs": []
    },
    {
      "cell_type": "code",
      "metadata": {
        "id": "ET6g3wIa7-l4",
        "colab_type": "code",
        "colab": {}
      },
      "source": [
        "n = songsFromDecades.shape[0]"
      ],
      "execution_count": 6,
      "outputs": []
    },
    {
      "cell_type": "code",
      "metadata": {
        "id": "q38bCidJ9BO1",
        "colab_type": "code",
        "colab": {}
      },
      "source": [
        "songsFromDecades['lyrics'] = \"\"\n",
        "songsFromDecades['result'] = \"\"\n"
      ],
      "execution_count": 7,
      "outputs": []
    },
    {
      "cell_type": "code",
      "metadata": {
        "id": "yGbZZzu69Tdv",
        "colab_type": "code",
        "colab": {}
      },
      "source": [
        "# files = os.listdir(\"/content/gdrive/My Drive/Qac239Final/videos\")\n",
        "df = pd.DataFrame(songsFromDecades)\n",
        "# df['full'] = \"/content/gdrive/My Drive/Qac239Final/videos/\" + df.file_name"
      ],
      "execution_count": 8,
      "outputs": []
    },
    {
      "cell_type": "code",
      "metadata": {
        "id": "FmyOa9GhHmdH",
        "colab_type": "code",
        "colab": {
          "base_uri": "https://localhost:8080/",
          "height": 470
        },
        "outputId": "eee17327-58be-42ea-a212-b14989fd07cf"
      },
      "source": [
        "df"
      ],
      "execution_count": 9,
      "outputs": [
        {
          "output_type": "execute_result",
          "data": {
            "text/html": [
              "<div>\n",
              "<style scoped>\n",
              "    .dataframe tbody tr th:only-of-type {\n",
              "        vertical-align: middle;\n",
              "    }\n",
              "\n",
              "    .dataframe tbody tr th {\n",
              "        vertical-align: top;\n",
              "    }\n",
              "\n",
              "    .dataframe thead th {\n",
              "        text-align: right;\n",
              "    }\n",
              "</style>\n",
              "<table border=\"1\" class=\"dataframe\">\n",
              "  <thead>\n",
              "    <tr style=\"text-align: right;\">\n",
              "      <th></th>\n",
              "      <th>songs</th>\n",
              "      <th>artist</th>\n",
              "      <th>decade</th>\n",
              "      <th>lyrics</th>\n",
              "      <th>curse_word_count</th>\n",
              "      <th>sentiment_analysis</th>\n",
              "      <th>sentiment_analysis_score</th>\n",
              "      <th>sentiment_analysis_magnitude</th>\n",
              "      <th>result</th>\n",
              "    </tr>\n",
              "  </thead>\n",
              "  <tbody>\n",
              "    <tr>\n",
              "      <th>0</th>\n",
              "      <td>Come Fly With Me</td>\n",
              "      <td>Frank Sinatra</td>\n",
              "      <td>1950</td>\n",
              "      <td></td>\n",
              "      <td>NaN</td>\n",
              "      <td>NaN</td>\n",
              "      <td>NaN</td>\n",
              "      <td>NaN</td>\n",
              "      <td></td>\n",
              "    </tr>\n",
              "    <tr>\n",
              "      <th>1</th>\n",
              "      <td>That's Amore</td>\n",
              "      <td>Dean Martin</td>\n",
              "      <td>1950</td>\n",
              "      <td></td>\n",
              "      <td>NaN</td>\n",
              "      <td>NaN</td>\n",
              "      <td>NaN</td>\n",
              "      <td>NaN</td>\n",
              "      <td></td>\n",
              "    </tr>\n",
              "    <tr>\n",
              "      <th>2</th>\n",
              "      <td>Jailhouse Rock</td>\n",
              "      <td>Elvis Presley</td>\n",
              "      <td>1950</td>\n",
              "      <td></td>\n",
              "      <td>NaN</td>\n",
              "      <td>NaN</td>\n",
              "      <td>NaN</td>\n",
              "      <td>NaN</td>\n",
              "      <td></td>\n",
              "    </tr>\n",
              "    <tr>\n",
              "      <th>3</th>\n",
              "      <td>I Walk The Line</td>\n",
              "      <td>Johnny Cash</td>\n",
              "      <td>1950</td>\n",
              "      <td></td>\n",
              "      <td>NaN</td>\n",
              "      <td>NaN</td>\n",
              "      <td>NaN</td>\n",
              "      <td>NaN</td>\n",
              "      <td></td>\n",
              "    </tr>\n",
              "    <tr>\n",
              "      <th>4</th>\n",
              "      <td>I've Got You Under My Skin</td>\n",
              "      <td>Frank Sinatra</td>\n",
              "      <td>1950</td>\n",
              "      <td></td>\n",
              "      <td>NaN</td>\n",
              "      <td>NaN</td>\n",
              "      <td>NaN</td>\n",
              "      <td>NaN</td>\n",
              "      <td></td>\n",
              "    </tr>\n",
              "    <tr>\n",
              "      <th>...</th>\n",
              "      <td>...</td>\n",
              "      <td>...</td>\n",
              "      <td>...</td>\n",
              "      <td>...</td>\n",
              "      <td>...</td>\n",
              "      <td>...</td>\n",
              "      <td>...</td>\n",
              "      <td>...</td>\n",
              "      <td>...</td>\n",
              "    </tr>\n",
              "    <tr>\n",
              "      <th>65</th>\n",
              "      <td>Shake It Off</td>\n",
              "      <td>Taylor Swift</td>\n",
              "      <td>2010</td>\n",
              "      <td></td>\n",
              "      <td>NaN</td>\n",
              "      <td>NaN</td>\n",
              "      <td>NaN</td>\n",
              "      <td>NaN</td>\n",
              "      <td></td>\n",
              "    </tr>\n",
              "    <tr>\n",
              "      <th>66</th>\n",
              "      <td>Thinking Out Loud</td>\n",
              "      <td>Ed Sheeran</td>\n",
              "      <td>2010</td>\n",
              "      <td></td>\n",
              "      <td>NaN</td>\n",
              "      <td>NaN</td>\n",
              "      <td>NaN</td>\n",
              "      <td>NaN</td>\n",
              "      <td></td>\n",
              "    </tr>\n",
              "    <tr>\n",
              "      <th>67</th>\n",
              "      <td>Marry You</td>\n",
              "      <td>Bruno Mars</td>\n",
              "      <td>2010</td>\n",
              "      <td></td>\n",
              "      <td>NaN</td>\n",
              "      <td>NaN</td>\n",
              "      <td>NaN</td>\n",
              "      <td>NaN</td>\n",
              "      <td></td>\n",
              "    </tr>\n",
              "    <tr>\n",
              "      <th>68</th>\n",
              "      <td>Blurred Lines</td>\n",
              "      <td>Robin Thicke Featuring T.I. &amp; Pharrell</td>\n",
              "      <td>2010</td>\n",
              "      <td></td>\n",
              "      <td>NaN</td>\n",
              "      <td>NaN</td>\n",
              "      <td>NaN</td>\n",
              "      <td>NaN</td>\n",
              "      <td></td>\n",
              "    </tr>\n",
              "    <tr>\n",
              "      <th>69</th>\n",
              "      <td>Turn Down For What</td>\n",
              "      <td>DJ Snake &amp; Lil Jon</td>\n",
              "      <td>2010</td>\n",
              "      <td></td>\n",
              "      <td>NaN</td>\n",
              "      <td>NaN</td>\n",
              "      <td>NaN</td>\n",
              "      <td>NaN</td>\n",
              "      <td></td>\n",
              "    </tr>\n",
              "  </tbody>\n",
              "</table>\n",
              "<p>70 rows × 9 columns</p>\n",
              "</div>"
            ],
            "text/plain": [
              "                         songs  ... result\n",
              "0             Come Fly With Me  ...       \n",
              "1                 That's Amore  ...       \n",
              "2               Jailhouse Rock  ...       \n",
              "3              I Walk The Line  ...       \n",
              "4   I've Got You Under My Skin  ...       \n",
              "..                         ...  ...    ...\n",
              "65                Shake It Off  ...       \n",
              "66           Thinking Out Loud  ...       \n",
              "67                   Marry You  ...       \n",
              "68               Blurred Lines  ...       \n",
              "69          Turn Down For What  ...       \n",
              "\n",
              "[70 rows x 9 columns]"
            ]
          },
          "metadata": {
            "tags": []
          },
          "execution_count": 9
        }
      ]
    },
    {
      "cell_type": "markdown",
      "metadata": {
        "id": "lFBKg8iqt5an",
        "colab_type": "text"
      },
      "source": [
        "## Setup Mourits-Lyrics service to get lyrics of each song.\n",
        "###Service Key is hidden for security reasons. Please head to https://rapidapi.com/PlanetTeamSpeak/api/mourits-lyrics to create your own API Key! \n"
      ]
    },
    {
      "cell_type": "markdown",
      "metadata": {
        "id": "znIBkWi7H6fY",
        "colab_type": "text"
      },
      "source": [
        "Use Music api to get all songs\n",
        "https://api.musixmatch.com/ws/1.1/matcher.lyrics.get?format=jsonp&callback=callback&q_track=HIGHEST%20IN%20THE%20ROOM&apikey=06d2c7b479fcf9517d2ec55303f6e863\n"
      ]
    },
    {
      "cell_type": "code",
      "metadata": {
        "id": "WjfmhPOh98AR",
        "colab_type": "code",
        "colab": {}
      },
      "source": [
        "apiKey = '[Enter API KEY Here]'\n",
        "URL = 'https://mourits-lyrics.p.rapidapi.com/?'\n",
        "headers = {'x-rapidapi-key': apiKey}"
      ],
      "execution_count": 14,
      "outputs": []
    },
    {
      "cell_type": "markdown",
      "metadata": {
        "id": "K0g6_dU3uk4u",
        "colab_type": "text"
      },
      "source": [
        "## Make requests to service and add to the dataframe"
      ]
    },
    {
      "cell_type": "code",
      "metadata": {
        "id": "IiXmEtGxGlvM",
        "colab_type": "code",
        "colab": {}
      },
      "source": [
        "import time\n",
        "for i in range(0,n): \n",
        "  PARAMS = {'a': df.artist[i], 's': df.songs[i]} \n",
        "  r = requests.get(url = URL, headers = headers, params = PARAMS) \n",
        "  roles =  r.json()\n",
        "  roles['result']['lyrics']\n",
        "  if roles['success'] == True:\n",
        "      df.lyrics[i] = roles['result']['lyrics'] #Extract lyrics\n",
        "  time.sleep(3)  #Do this every 3 seconds to avoid time outs. "
      ],
      "execution_count": null,
      "outputs": []
    },
    {
      "cell_type": "code",
      "metadata": {
        "id": "MFWbI2Vu1cFH",
        "colab_type": "code",
        "colab": {}
      },
      "source": [
        "exportedDataframe = pd.read_csv(\"/content/gdrive/My Drive/Qac239Final/export_dataframe.csv\")"
      ],
      "execution_count": 10,
      "outputs": []
    },
    {
      "cell_type": "code",
      "metadata": {
        "id": "-FSj4dqN2fuM",
        "colab_type": "code",
        "colab": {}
      },
      "source": [
        "exportedDataframe['sentiment_analysis_score'] = \"\"\n",
        "exportedDataframe['sentiment_analysis_magnitude'] = \"\""
      ],
      "execution_count": 11,
      "outputs": []
    },
    {
      "cell_type": "code",
      "metadata": {
        "id": "0N9F0vW9xDO5",
        "colab_type": "code",
        "colab": {}
      },
      "source": [
        "exporteddf = exportedDataframe"
      ],
      "execution_count": 12,
      "outputs": []
    },
    {
      "cell_type": "code",
      "metadata": {
        "id": "ZFUHmx5X29Ur",
        "colab_type": "code",
        "colab": {}
      },
      "source": [
        "lengthOfFrame = len(exportedDataframe)\n"
      ],
      "execution_count": 13,
      "outputs": []
    },
    {
      "cell_type": "markdown",
      "metadata": {
        "id": "GvyJO42FyFN3",
        "colab_type": "text"
      },
      "source": [
        "## Do sentiment analysis using the songs as an input and update CSV "
      ]
    },
    {
      "cell_type": "code",
      "metadata": {
        "id": "BD3AZYmLsLMg",
        "colab_type": "code",
        "colab": {}
      },
      "source": [
        "from google.cloud import language\n",
        "from google.cloud.language import enums\n",
        "from google.cloud.language import types\n",
        "\n",
        "# Instantiates a client\n",
        "client = language.LanguageServiceClient()\n",
        "\n",
        "# The text to analyze\n",
        "\n",
        "for i in range(lengthOfFrame):\n",
        "  text = exporteddf.lyrics[i]\n",
        "  if str(text) != 'nan':\n",
        "    document = types.Document(\n",
        "        content=text,\n",
        "        type=enums.Document.Type.PLAIN_TEXT)\n",
        "\n",
        "    # Detects the sentiment of the text\n",
        "    sentiment = client.analyze_sentiment(document=document).document_sentiment\n",
        "\n",
        "    print('Text: {}'.format(text))\n",
        "    print('Sentiment: {}, {}'.format(sentiment.score, sentiment.magnitude))\n",
        "    #Update sentiments inside dataframe\n",
        "    exporteddf.sentiment_analysis_score[i] = sentiment.score\n",
        "    exporteddf.sentiment_analysis_magnitude[i] = sentiment.magnitude\n",
        "\n"
      ],
      "execution_count": null,
      "outputs": []
    },
    {
      "cell_type": "markdown",
      "metadata": {
        "id": "9oJvRNfuy36d",
        "colab_type": "text"
      },
      "source": [
        "## Save CSV File with Sentiment Analysis"
      ]
    },
    {
      "cell_type": "code",
      "metadata": {
        "id": "o4QHzX2TzhJ1",
        "colab_type": "code",
        "colab": {}
      },
      "source": [
        "exporteddf.to_csv(r'/content/gdrive/My Drive/Qac239Final/SentimentAnalysisOfSongs.csv', index = None, header = True)"
      ],
      "execution_count": 16,
      "outputs": []
    },
    {
      "cell_type": "markdown",
      "metadata": {
        "id": "nTQVkJyJL0MY",
        "colab_type": "text"
      },
      "source": [
        "The 1960s had the most positive songs with the top 10 songs achieving an average Sentimental Analysis of ~0.5, far above the rest of its competition."
      ]
    }
  ]
}